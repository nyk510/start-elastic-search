{
 "cells": [
  {
   "cell_type": "code",
   "execution_count": 1,
   "metadata": {},
   "outputs": [],
   "source": [
    "from elasticsearch import Elasticsearch\n",
    "from tqdm import tqdm_notebook as tqdm"
   ]
  },
  {
   "cell_type": "code",
   "execution_count": 2,
   "metadata": {},
   "outputs": [],
   "source": [
    "es = Elasticsearch([{ 'host': 'elasticsearch' }])"
   ]
  },
  {
   "cell_type": "code",
   "execution_count": 3,
   "metadata": {},
   "outputs": [],
   "source": [
    "mappings = {\n",
    "    'properties': {\n",
    "        'id': { 'type': 'integer' },\n",
    "        'label': { 'type': 'text' },\n",
    "        'group': { 'type': 'integer' },\n",
    "        'feature': { 'type': 'dense_vector', 'dims': 128 }\n",
    "    }\n",
    "}"
   ]
  },
  {
   "cell_type": "code",
   "execution_count": 4,
   "metadata": {},
   "outputs": [],
   "source": [
    "if es.indices.exists(index='matching'):\n",
    "    es.indices.delete(index='matching')"
   ]
  },
  {
   "cell_type": "code",
   "execution_count": 5,
   "metadata": {},
   "outputs": [
    {
     "data": {
      "text/plain": [
       "{'acknowledged': True, 'shards_acknowledged': True, 'index': 'matching'}"
      ]
     },
     "execution_count": 5,
     "metadata": {},
     "output_type": "execute_result"
    }
   ],
   "source": [
    "es.indices.create(index='matching', body={ 'mappings': mappings })"
   ]
  },
  {
   "cell_type": "markdown",
   "metadata": {},
   "source": [
    "### データの作成\n",
    "\n",
    "データ定義にしたがってデータを登録します。  \n",
    "`feature` を真面目に作っても良いのですが少しめんどいので numpy のランダムなベクトルで代用"
   ]
  },
  {
   "cell_type": "code",
   "execution_count": 6,
   "metadata": {},
   "outputs": [],
   "source": [
    "import numpy as np"
   ]
  },
  {
   "cell_type": "code",
   "execution_count": 7,
   "metadata": {},
   "outputs": [],
   "source": [
    "n_data = 100000"
   ]
  },
  {
   "cell_type": "code",
   "execution_count": 8,
   "metadata": {},
   "outputs": [],
   "source": [
    "features = np.random.uniform(size=(n_data, 128))"
   ]
  },
  {
   "cell_type": "markdown",
   "metadata": {},
   "source": [
    "一件だけ登録\n",
    "\n",
    "この時特徴量を list にして python object に変換する必要あり。(たぶん serializer をカスタムすればいちいち list にしなくても済むはずなのであとで調べる)"
   ]
  },
  {
   "cell_type": "code",
   "execution_count": 9,
   "metadata": {},
   "outputs": [
    {
     "data": {
      "text/plain": [
       "{'_index': 'matching',\n",
       " '_type': '_doc',\n",
       " '_id': 'qp_fkW0BPBfgrcvw5zEL',\n",
       " '_version': 1,\n",
       " 'result': 'created',\n",
       " '_shards': {'total': 2, 'successful': 1, 'failed': 0},\n",
       " '_seq_no': 0,\n",
       " '_primary_term': 1}"
      ]
     },
     "execution_count": 9,
     "metadata": {},
     "output_type": "execute_result"
    }
   ],
   "source": [
    "es.index('matching', body={ 'id': 0, 'label': 'foo', 'feature': list(np.random.uniform(size=(128,)))})"
   ]
  },
  {
   "cell_type": "markdown",
   "metadata": {},
   "source": [
    "まとめてデータを作るときは `elasticsearch.helper.buld` をつかうとよさ気\n",
    "\n",
    "https://elasticsearch-py.readthedocs.io/en/master/helpers.html#bulk-helpers\n",
    "\n",
    "iterator を渡すと各要素をドキュメントとして登録してくれるみたい\n",
    "\n",
    "```python\n",
    "def gendata():\n",
    "    mywords = ['foo', 'bar', 'baz']\n",
    "    for word in mywords:\n",
    "        yield {\n",
    "            \"_index\": \"mywords\",\n",
    "            \"_type\": \"document\",\n",
    "            \"doc\": {\"word\": word},\n",
    "        }\n",
    "\n",
    "bulk(es, gendata())\n",
    "```"
   ]
  },
  {
   "cell_type": "code",
   "execution_count": 10,
   "metadata": {},
   "outputs": [],
   "source": [
    "def generate_data(features):\n",
    "    for i, f in tqdm(enumerate(features), total=len(features)):\n",
    "        yield {\n",
    "            '_index': 'matching',\n",
    "            'id': i + 1,\n",
    "            'feature': list(f),\n",
    "            'group': i % 10,\n",
    "            'label': f'name={i:04d}'\n",
    "        }"
   ]
  },
  {
   "cell_type": "code",
   "execution_count": 11,
   "metadata": {},
   "outputs": [],
   "source": [
    "from elasticsearch.helpers import bulk"
   ]
  },
  {
   "cell_type": "code",
   "execution_count": 12,
   "metadata": {},
   "outputs": [
    {
     "data": {
      "application/vnd.jupyter.widget-view+json": {
       "model_id": "11c2ca05377b43569c97e3e6b7b9820b",
       "version_major": 2,
       "version_minor": 0
      },
      "text/plain": [
       "HBox(children=(IntProgress(value=0, max=100000), HTML(value='')))"
      ]
     },
     "metadata": {},
     "output_type": "display_data"
    },
    {
     "name": "stdout",
     "output_type": "stream",
     "text": [
      "\n"
     ]
    },
    {
     "data": {
      "text/plain": [
       "(100000, [])"
      ]
     },
     "execution_count": 12,
     "metadata": {},
     "output_type": "execute_result"
    }
   ],
   "source": [
    "bulk(es, generate_data(features))"
   ]
  },
  {
   "cell_type": "code",
   "execution_count": 13,
   "metadata": {},
   "outputs": [],
   "source": [
    "query_feature = np.random.uniform(size=(128,))"
   ]
  },
  {
   "cell_type": "code",
   "execution_count": 14,
   "metadata": {},
   "outputs": [
    {
     "data": {
      "text/plain": [
       "array([0.81802499, 0.12571864, 0.27289382, 0.6986188 , 0.29066465,\n",
       "       0.11050923, 0.8501511 , 0.51986054, 0.61685199, 0.83095645,\n",
       "       0.75356709, 0.51062607, 0.26170096, 0.88077694, 0.70502994,\n",
       "       0.98665565, 0.06174718, 0.02887512, 0.38458062, 0.77097599,\n",
       "       0.75536054, 0.21685613, 0.60844107, 0.78031337, 0.95986356,\n",
       "       0.97189258, 0.62521225, 0.84465395, 0.45734556, 0.85585512,\n",
       "       0.23036291, 0.35699732, 0.68213987, 0.29794184, 0.23592959,\n",
       "       0.93629309, 0.25856664, 0.21658585, 0.26004643, 0.64287907,\n",
       "       0.69259503, 0.98923838, 0.4644076 , 0.12685969, 0.65329357,\n",
       "       0.21355726, 0.7435358 , 0.48377971, 0.46569942, 0.5708957 ,\n",
       "       0.58220555, 0.55059325, 0.12480346, 0.89269312, 0.18475965,\n",
       "       0.93917319, 0.19996934, 0.08402065, 0.55516532, 0.72775439,\n",
       "       0.65667649, 0.38978366, 0.63088646, 0.49233538, 0.60895785,\n",
       "       0.68365275, 0.95476001, 0.09304078, 0.73913519, 0.73272903,\n",
       "       0.61453181, 0.57471983, 0.90273075, 0.09222085, 0.35184228,\n",
       "       0.8850387 , 0.00862222, 0.48636608, 0.51073193, 0.04442068,\n",
       "       0.40578329, 0.81905631, 0.93038054, 0.7506054 , 0.08900999,\n",
       "       0.19414758, 0.09948652, 0.20004344, 0.03984254, 0.25189495,\n",
       "       0.83216211, 0.82721054, 0.25935566, 0.32186236, 0.13581178,\n",
       "       0.93216158, 0.89823665, 0.0708943 , 0.45231571, 0.22399055,\n",
       "       0.91610555, 0.72226151, 0.99837429, 0.18472436, 0.0151794 ,\n",
       "       0.07667502, 0.81077644, 0.04844032, 0.86318263, 0.33695907,\n",
       "       0.67916565, 0.8772525 , 0.47411208, 0.05311741, 0.52890982,\n",
       "       0.05617729, 0.24040126, 0.45487   , 0.03518856, 0.72339758,\n",
       "       0.22879438, 0.37194137, 0.25818201, 0.4330114 , 0.38441477,\n",
       "       0.22388264, 0.09863985, 0.64895841])"
      ]
     },
     "execution_count": 14,
     "metadata": {},
     "output_type": "execute_result"
    }
   ],
   "source": [
    "query_feature"
   ]
  },
  {
   "cell_type": "code",
   "execution_count": 28,
   "metadata": {},
   "outputs": [
    {
     "name": "stdout",
     "output_type": "stream",
     "text": [
      "43.7 ms ± 661 µs per loop (mean ± std. dev. of 7 runs, 10 loops each)\n"
     ]
    }
   ],
   "source": [
    "%%timeit\n",
    "res = es.search(index='matching', body={\n",
    "  \"query\": {\n",
    "    \"script_score\": {\n",
    "      \"query\": {\n",
    "        \"match_all\": {}\n",
    "      },\n",
    "      \"script\": {\n",
    "        \"source\": \"cosineSimilarity(params.query_vec, doc['feature'])\",\n",
    "        \"params\": {\n",
    "          \"query_vec\": query_feature.tolist()\n",
    "        }\n",
    "      }\n",
    "    }\n",
    "  }\n",
    "})"
   ]
  },
  {
   "cell_type": "code",
   "execution_count": 17,
   "metadata": {},
   "outputs": [],
   "source": [
    "top_object = res['hits']['hits'][0]['_source']"
   ]
  },
  {
   "cell_type": "code",
   "execution_count": 18,
   "metadata": {},
   "outputs": [],
   "source": [
    "import pandas as pd"
   ]
  },
  {
   "cell_type": "code",
   "execution_count": 19,
   "metadata": {},
   "outputs": [],
   "source": [
    "top_df = pd.DataFrame(res['hits']['hits'])"
   ]
  },
  {
   "cell_type": "code",
   "execution_count": 20,
   "metadata": {},
   "outputs": [
    {
     "data": {
      "text/html": [
       "<div>\n",
       "<style scoped>\n",
       "    .dataframe tbody tr th:only-of-type {\n",
       "        vertical-align: middle;\n",
       "    }\n",
       "\n",
       "    .dataframe tbody tr th {\n",
       "        vertical-align: top;\n",
       "    }\n",
       "\n",
       "    .dataframe thead th {\n",
       "        text-align: right;\n",
       "    }\n",
       "</style>\n",
       "<table border=\"1\" class=\"dataframe\">\n",
       "  <thead>\n",
       "    <tr style=\"text-align: right;\">\n",
       "      <th></th>\n",
       "      <th>_index</th>\n",
       "      <th>_type</th>\n",
       "      <th>_id</th>\n",
       "      <th>_score</th>\n",
       "      <th>_source</th>\n",
       "    </tr>\n",
       "  </thead>\n",
       "  <tbody>\n",
       "    <tr>\n",
       "      <td>0</td>\n",
       "      <td>matching</td>\n",
       "      <td>_doc</td>\n",
       "      <td>xJ_fkW0BPBfgrcvw8ENd</td>\n",
       "      <td>0.838863</td>\n",
       "      <td>{'id': 4634, 'feature': [0.40823221917686825, ...</td>\n",
       "    </tr>\n",
       "    <tr>\n",
       "      <td>1</td>\n",
       "      <td>matching</td>\n",
       "      <td>_doc</td>\n",
       "      <td>Up_fkW0BPBfgrcvw_npy</td>\n",
       "      <td>0.832677</td>\n",
       "      <td>{'id': 18600, 'feature': [0.88734911344409, 0....</td>\n",
       "    </tr>\n",
       "    <tr>\n",
       "      <td>2</td>\n",
       "      <td>matching</td>\n",
       "      <td>_doc</td>\n",
       "      <td>IqDgkW0BPBfgrcvwKT-F</td>\n",
       "      <td>0.832089</td>\n",
       "      <td>{'id': 68984, 'feature': [0.6641028393123313, ...</td>\n",
       "    </tr>\n",
       "    <tr>\n",
       "      <td>3</td>\n",
       "      <td>matching</td>\n",
       "      <td>_doc</td>\n",
       "      <td>wp_gkW0BPBfgrcvwBJbn</td>\n",
       "      <td>0.829431</td>\n",
       "      <td>{'id': 25880, 'feature': [0.9886763523358413, ...</td>\n",
       "    </tr>\n",
       "    <tr>\n",
       "      <td>4</td>\n",
       "      <td>matching</td>\n",
       "      <td>_doc</td>\n",
       "      <td>6KDgkW0BPBfgrcvwOoww</td>\n",
       "      <td>0.828593</td>\n",
       "      <td>{'id': 88894, 'feature': [0.5354224545349886, ...</td>\n",
       "    </tr>\n",
       "    <tr>\n",
       "      <td>5</td>\n",
       "      <td>matching</td>\n",
       "      <td>_doc</td>\n",
       "      <td>P6DgkW0BPBfgrcvwOYrK</td>\n",
       "      <td>0.828202</td>\n",
       "      <td>{'id': 88213, 'feature': [0.5285779289050021, ...</td>\n",
       "    </tr>\n",
       "    <tr>\n",
       "      <td>6</td>\n",
       "      <td>matching</td>\n",
       "      <td>_doc</td>\n",
       "      <td>dKDgkW0BPBfgrcvwKDhC</td>\n",
       "      <td>0.828133</td>\n",
       "      <td>{'id': 67274, 'feature': [0.5625189876179224, ...</td>\n",
       "    </tr>\n",
       "    <tr>\n",
       "      <td>7</td>\n",
       "      <td>matching</td>\n",
       "      <td>_doc</td>\n",
       "      <td>VqDgkW0BPBfgrcvwHQMW</td>\n",
       "      <td>0.827646</td>\n",
       "      <td>{'id': 53676, 'feature': [0.951265664307382, 0...</td>\n",
       "    </tr>\n",
       "    <tr>\n",
       "      <td>8</td>\n",
       "      <td>matching</td>\n",
       "      <td>_doc</td>\n",
       "      <td>uZ_gkW0BPBfgrcvwEtAu</td>\n",
       "      <td>0.827254</td>\n",
       "      <td>{'id': 40719, 'feature': [0.3307656211310287, ...</td>\n",
       "    </tr>\n",
       "    <tr>\n",
       "      <td>9</td>\n",
       "      <td>matching</td>\n",
       "      <td>_doc</td>\n",
       "      <td>FKDgkW0BPBfgrcvwM2_0</td>\n",
       "      <td>0.826668</td>\n",
       "      <td>{'id': 81258, 'feature': [0.929954851122463, 0...</td>\n",
       "    </tr>\n",
       "  </tbody>\n",
       "</table>\n",
       "</div>"
      ],
      "text/plain": [
       "     _index _type                   _id    _score  \\\n",
       "0  matching  _doc  xJ_fkW0BPBfgrcvw8ENd  0.838863   \n",
       "1  matching  _doc  Up_fkW0BPBfgrcvw_npy  0.832677   \n",
       "2  matching  _doc  IqDgkW0BPBfgrcvwKT-F  0.832089   \n",
       "3  matching  _doc  wp_gkW0BPBfgrcvwBJbn  0.829431   \n",
       "4  matching  _doc  6KDgkW0BPBfgrcvwOoww  0.828593   \n",
       "5  matching  _doc  P6DgkW0BPBfgrcvwOYrK  0.828202   \n",
       "6  matching  _doc  dKDgkW0BPBfgrcvwKDhC  0.828133   \n",
       "7  matching  _doc  VqDgkW0BPBfgrcvwHQMW  0.827646   \n",
       "8  matching  _doc  uZ_gkW0BPBfgrcvwEtAu  0.827254   \n",
       "9  matching  _doc  FKDgkW0BPBfgrcvwM2_0  0.826668   \n",
       "\n",
       "                                             _source  \n",
       "0  {'id': 4634, 'feature': [0.40823221917686825, ...  \n",
       "1  {'id': 18600, 'feature': [0.88734911344409, 0....  \n",
       "2  {'id': 68984, 'feature': [0.6641028393123313, ...  \n",
       "3  {'id': 25880, 'feature': [0.9886763523358413, ...  \n",
       "4  {'id': 88894, 'feature': [0.5354224545349886, ...  \n",
       "5  {'id': 88213, 'feature': [0.5285779289050021, ...  \n",
       "6  {'id': 67274, 'feature': [0.5625189876179224, ...  \n",
       "7  {'id': 53676, 'feature': [0.951265664307382, 0...  \n",
       "8  {'id': 40719, 'feature': [0.3307656211310287, ...  \n",
       "9  {'id': 81258, 'feature': [0.929954851122463, 0...  "
      ]
     },
     "execution_count": 20,
     "metadata": {},
     "output_type": "execute_result"
    }
   ],
   "source": [
    "top_df"
   ]
  },
  {
   "cell_type": "code",
   "execution_count": 21,
   "metadata": {},
   "outputs": [
    {
     "data": {
      "text/plain": [
       "(4634, 'name=4633')"
      ]
     },
     "execution_count": 21,
     "metadata": {},
     "output_type": "execute_result"
    }
   ],
   "source": [
    "top_object['id'], top_object['label']"
   ]
  },
  {
   "cell_type": "markdown",
   "metadata": {},
   "source": [
    "答え合わせ"
   ]
  },
  {
   "cell_type": "code",
   "execution_count": 22,
   "metadata": {},
   "outputs": [],
   "source": [
    "from scipy.spatial.distance import cosine"
   ]
  },
  {
   "cell_type": "code",
   "execution_count": 29,
   "metadata": {},
   "outputs": [
    {
     "name": "stdout",
     "output_type": "stream",
     "text": [
      "3.27 s ± 17.8 ms per loop (mean ± std. dev. of 7 runs, 1 loop each)\n"
     ]
    }
   ],
   "source": [
    "%%timeit\n",
    "cos_sim = [1 - cosine(x, query_feature) for x in features]\n",
    "idx = np.argmax(cos_sim)\n",
    "cos_sim[idx]"
   ]
  },
  {
   "cell_type": "code",
   "execution_count": 24,
   "metadata": {},
   "outputs": [],
   "source": [
    "from joblib import Parallel, delayed"
   ]
  },
  {
   "cell_type": "code",
   "execution_count": 31,
   "metadata": {},
   "outputs": [
    {
     "name": "stdout",
     "output_type": "stream",
     "text": [
      "5.2 s ± 108 ms per loop (mean ± std. dev. of 7 runs, 1 loop each)\n"
     ]
    }
   ],
   "source": [
    "%%timeit\n",
    "_ = Parallel(n_jobs=-1)([delayed(cosine)(x, query_feature) for x in features])"
   ]
  }
 ],
 "metadata": {
  "kernelspec": {
   "display_name": "Python 3",
   "language": "python",
   "name": "python3"
  },
  "language_info": {
   "codemirror_mode": {
    "name": "ipython",
    "version": 3
   },
   "file_extension": ".py",
   "mimetype": "text/x-python",
   "name": "python",
   "nbconvert_exporter": "python",
   "pygments_lexer": "ipython3",
   "version": "3.7.4"
  }
 },
 "nbformat": 4,
 "nbformat_minor": 2
}
